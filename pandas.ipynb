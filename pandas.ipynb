{
 "cells": [
  {
   "cell_type": "code",
   "execution_count": 13,
   "id": "17dcd2d8-253d-4373-9b3a-04406e7c993c",
   "metadata": {},
   "outputs": [
    {
     "data": {
      "text/html": [
       "<div>\n",
       "<style scoped>\n",
       "    .dataframe tbody tr th:only-of-type {\n",
       "        vertical-align: middle;\n",
       "    }\n",
       "\n",
       "    .dataframe tbody tr th {\n",
       "        vertical-align: top;\n",
       "    }\n",
       "\n",
       "    .dataframe thead th {\n",
       "        text-align: right;\n",
       "    }\n",
       "</style>\n",
       "<table border=\"1\" class=\"dataframe\">\n",
       "  <thead>\n",
       "    <tr style=\"text-align: right;\">\n",
       "      <th></th>\n",
       "      <th>Name</th>\n",
       "      <th>Age</th>\n",
       "      <th>City</th>\n",
       "    </tr>\n",
       "  </thead>\n",
       "  <tbody>\n",
       "    <tr>\n",
       "      <th>0</th>\n",
       "      <td>Bhuvi</td>\n",
       "      <td>24</td>\n",
       "      <td>India</td>\n",
       "    </tr>\n",
       "    <tr>\n",
       "      <th>1</th>\n",
       "      <td>ramcharan</td>\n",
       "      <td>175</td>\n",
       "      <td>Hyderabad</td>\n",
       "    </tr>\n",
       "    <tr>\n",
       "      <th>2</th>\n",
       "      <td>mlagarithaluka</td>\n",
       "      <td>21</td>\n",
       "      <td>pitapuram</td>\n",
       "    </tr>\n",
       "  </tbody>\n",
       "</table>\n",
       "</div>"
      ],
      "text/plain": [
       "             Name  Age       City\n",
       "0           Bhuvi   24      India\n",
       "1       ramcharan  175  Hyderabad\n",
       "2  mlagarithaluka   21  pitapuram"
      ]
     },
     "execution_count": 13,
     "metadata": {},
     "output_type": "execute_result"
    }
   ],
   "source": [
    "import pandas as pd\n",
    "\n",
    "data = {\n",
    "    'Name': ['Bhuvi', 'ramcharan', 'mlagarithaluka'],\n",
    "    'Age': [24,175, 21,],\n",
    "    'City': ['India', 'Hyderabad', 'pitapuram']\n",
    "}\n",
    "df = pd.DataFrame(data)\n",
    "\n",
    "df"
   ]
  },
  {
   "cell_type": "code",
   "execution_count": 15,
   "id": "5f8084b3-6a43-41b9-ae19-06f716eabf48",
   "metadata": {},
   "outputs": [
    {
     "data": {
      "text/html": [
       "<div>\n",
       "<style scoped>\n",
       "    .dataframe tbody tr th:only-of-type {\n",
       "        vertical-align: middle;\n",
       "    }\n",
       "\n",
       "    .dataframe tbody tr th {\n",
       "        vertical-align: top;\n",
       "    }\n",
       "\n",
       "    .dataframe thead th {\n",
       "        text-align: right;\n",
       "    }\n",
       "</style>\n",
       "<table border=\"1\" class=\"dataframe\">\n",
       "  <thead>\n",
       "    <tr style=\"text-align: right;\">\n",
       "      <th></th>\n",
       "      <th>Name</th>\n",
       "      <th>Age</th>\n",
       "      <th>City</th>\n",
       "    </tr>\n",
       "  </thead>\n",
       "  <tbody>\n",
       "    <tr>\n",
       "      <th>0</th>\n",
       "      <td>Bhuvi</td>\n",
       "      <td>24</td>\n",
       "      <td>India</td>\n",
       "    </tr>\n",
       "    <tr>\n",
       "      <th>1</th>\n",
       "      <td>ramcharan</td>\n",
       "      <td>175</td>\n",
       "      <td>Hyderabad</td>\n",
       "    </tr>\n",
       "    <tr>\n",
       "      <th>2</th>\n",
       "      <td>mlagarithaluka</td>\n",
       "      <td>21</td>\n",
       "      <td>pitapuram</td>\n",
       "    </tr>\n",
       "  </tbody>\n",
       "</table>\n",
       "</div>"
      ],
      "text/plain": [
       "             Name  Age       City\n",
       "0           Bhuvi   24      India\n",
       "1       ramcharan  175  Hyderabad\n",
       "2  mlagarithaluka   21  pitapuram"
      ]
     },
     "execution_count": 15,
     "metadata": {},
     "output_type": "execute_result"
    }
   ],
   "source": [
    "df.head()\n"
   ]
  },
  {
   "cell_type": "code",
   "execution_count": 17,
   "id": "cde39906-4bba-44d7-9385-9579f33279b7",
   "metadata": {},
   "outputs": [
    {
     "data": {
      "text/plain": [
       "RangeIndex(start=0, stop=3, step=1)"
      ]
     },
     "execution_count": 17,
     "metadata": {},
     "output_type": "execute_result"
    }
   ],
   "source": [
    "df.index"
   ]
  },
  {
   "cell_type": "code",
   "execution_count": 19,
   "id": "4e975e03-ed9f-4f92-a974-7bc158eef873",
   "metadata": {},
   "outputs": [
    {
     "data": {
      "text/plain": [
       "0             Bhuvi\n",
       "1         ramcharan\n",
       "2    mlagarithaluka\n",
       "Name: Name, dtype: object"
      ]
     },
     "execution_count": 19,
     "metadata": {},
     "output_type": "execute_result"
    }
   ],
   "source": [
    "df['Name']"
   ]
  },
  {
   "cell_type": "code",
   "execution_count": 21,
   "id": "6352b0bd-9513-4884-af94-61800081b78f",
   "metadata": {},
   "outputs": [
    {
     "data": {
      "text/plain": [
       "Name    Bhuvi\n",
       "Age        24\n",
       "City    India\n",
       "Name: 0, dtype: object"
      ]
     },
     "execution_count": 21,
     "metadata": {},
     "output_type": "execute_result"
    }
   ],
   "source": [
    "\n",
    "df.iloc[0]\n"
   ]
  },
  {
   "cell_type": "code",
   "execution_count": 25,
   "id": "ac015c46-3ab2-4d59-a97f-a5281e849bde",
   "metadata": {},
   "outputs": [
    {
     "data": {
      "text/html": [
       "<div>\n",
       "<style scoped>\n",
       "    .dataframe tbody tr th:only-of-type {\n",
       "        vertical-align: middle;\n",
       "    }\n",
       "\n",
       "    .dataframe tbody tr th {\n",
       "        vertical-align: top;\n",
       "    }\n",
       "\n",
       "    .dataframe thead th {\n",
       "        text-align: right;\n",
       "    }\n",
       "</style>\n",
       "<table border=\"1\" class=\"dataframe\">\n",
       "  <thead>\n",
       "    <tr style=\"text-align: right;\">\n",
       "      <th></th>\n",
       "      <th>Name</th>\n",
       "      <th>Age</th>\n",
       "      <th>City</th>\n",
       "    </tr>\n",
       "  </thead>\n",
       "  <tbody>\n",
       "    <tr>\n",
       "      <th>0</th>\n",
       "      <td>bhuvi</td>\n",
       "      <td>24</td>\n",
       "      <td>India</td>\n",
       "    </tr>\n",
       "    <tr>\n",
       "      <th>1</th>\n",
       "      <td>ramcharan</td>\n",
       "      <td>175</td>\n",
       "      <td>Hyderabad</td>\n",
       "    </tr>\n",
       "    <tr>\n",
       "      <th>2</th>\n",
       "      <td>mlagarithaluka</td>\n",
       "      <td>21</td>\n",
       "      <td>pitaphuram</td>\n",
       "    </tr>\n",
       "  </tbody>\n",
       "</table>\n",
       "</div>"
      ],
      "text/plain": [
       "             Name  Age        City\n",
       "0           bhuvi   24       India\n",
       "1       ramcharan  175   Hyderabad\n",
       "2  mlagarithaluka   21  pitaphuram"
      ]
     },
     "execution_count": 25,
     "metadata": {},
     "output_type": "execute_result"
    }
   ],
   "source": [
    "\n",
    "data_dict = [\n",
    "    {'Name': 'bhuvi', 'Age': 24, 'City': 'India'},\n",
    "    {'Name': 'ramcharan', 'Age': 175, 'City': 'Hyderabad'},\n",
    "    {'Name': 'mlagarithaluka', 'Age': 21, 'City': 'pitaphuram'}\n",
    "]\n",
    "df_dict = pd.DataFrame(data_dict)\n",
    "\n",
    "df_dict\n"
   ]
  },
  {
   "cell_type": "code",
   "execution_count": 27,
   "id": "e962f763-609a-422a-9eaf-dea4e28b497f",
   "metadata": {},
   "outputs": [],
   "source": [
    "df.to_csv('data.csv', index=False)\n"
   ]
  },
  {
   "cell_type": "code",
   "execution_count": null,
   "id": "4cca120d-dc25-4f48-9db7-19a50d747b6f",
   "metadata": {},
   "outputs": [],
   "source": [
    "1.Interactive data visualizations can be developed and improved repeatedly by producers with the use of the \"write/render/evaluate\" loop.\n",
    "They may write the code to produce the visualization, render it to see how it appears, and assess its efficacy thanks to this loop.\n",
    "Artists can refine their visuals for greater impact and clarity by going through this process again.\n",
    "\n",
    "2.Users can interact with data in a more personalized way with the help of dynamic, interactive data visualizations.\n",
    "They provide consumers the opportunity to engage with diverse data points, investigate various aspects of the data, \n",
    "and obtain insights catered to their particular queries or passions.\n",
    "\n",
    "3.Murray makes the point that open-source software is frequently superior for disseminating data visualizations, and I agree.\n",
    "Increased transparency and flexibility are offered by open-source tools, which let users modify and alter their \n",
    "visualizations without being constrained by proprietary software. Furthermore, open-source solutions encourage teamwork in\n",
    "an atmosphere where consumers can gain from innovations and enhancements driven by the community. "
   ]
  }
 ],
 "metadata": {
  "kernelspec": {
   "display_name": "Python 3 (ipykernel)",
   "language": "python",
   "name": "python3"
  },
  "language_info": {
   "codemirror_mode": {
    "name": "ipython",
    "version": 3
   },
   "file_extension": ".py",
   "mimetype": "text/x-python",
   "name": "python",
   "nbconvert_exporter": "python",
   "pygments_lexer": "ipython3",
   "version": "3.12.4"
  }
 },
 "nbformat": 4,
 "nbformat_minor": 5
}
